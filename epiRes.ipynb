{
 "cells": [
  {
   "cell_type": "code",
   "execution_count": 51,
   "metadata": {},
   "outputs": [],
   "source": [
    "import numpy as np\n",
    "import pandas as pd\n",
    "import os\n",
    "import random\n",
    "import matplotlib.pyplot as plt\n",
    "\n",
    "from datetime import datetime\n",
    "from time import time\n",
    "\n",
    "from sklearn.metrics.pairwise import cosine_similarity\n",
    "from sklearn.feature_extraction.text import TfidfVectorizer\n",
    "\n",
    "from deap import base, creator, tools\n",
    "\n",
    "import warnings\n",
    "warnings.filterwarnings(\"ignore\")"
   ]
  },
  {
   "cell_type": "code",
   "execution_count": 52,
   "metadata": {},
   "outputs": [],
   "source": [
    "# Start time of Execution\n",
    "time_start = time()"
   ]
  },
  {
   "cell_type": "markdown",
   "metadata": {},
   "source": [
    "# Preprocessing"
   ]
  },
  {
   "cell_type": "markdown",
   "metadata": {},
   "source": [
    "## Data Loading"
   ]
  },
  {
   "cell_type": "code",
   "execution_count": 53,
   "metadata": {},
   "outputs": [
    {
     "name": "stdout",
     "output_type": "stream",
     "text": [
      "Data loaded successfully\n"
     ]
    }
   ],
   "source": [
    "def load_epigraph_data(file_path):\n",
    "    try:\n",
    "        df = pd.read_csv(file_path, sep='\\t')\n",
    "        return df\n",
    "    except FileNotFoundError:\n",
    "        print(f\"File not found: {file_path}\")\n",
    "        return None\n",
    "\n",
    "# Update this to the correct path where your file is located\n",
    "file_path = '/Users/ioannisvelgakis/Desktop/EpigraphRestoration/data.csv'\n",
    "\n",
    "df = load_epigraph_data(file_path)\n",
    "\n",
    "if df is not None:\n",
    "    print(\"Data loaded successfully\")\n",
    "else:\n",
    "    print(\"Data loading failed\")"
   ]
  },
  {
   "cell_type": "code",
   "execution_count": 54,
   "metadata": {},
   "outputs": [
    {
     "data": {
      "text/html": [
       "<div>\n",
       "<style scoped>\n",
       "    .dataframe tbody tr th:only-of-type {\n",
       "        vertical-align: middle;\n",
       "    }\n",
       "\n",
       "    .dataframe tbody tr th {\n",
       "        vertical-align: top;\n",
       "    }\n",
       "\n",
       "    .dataframe thead th {\n",
       "        text-align: right;\n",
       "    }\n",
       "</style>\n",
       "<table border=\"1\" class=\"dataframe\">\n",
       "  <thead>\n",
       "    <tr style=\"text-align: right;\">\n",
       "      <th></th>\n",
       "      <th>id</th>\n",
       "      <th>text</th>\n",
       "      <th>metadata</th>\n",
       "      <th>region_main_id</th>\n",
       "      <th>region_main</th>\n",
       "      <th>region_sub_id</th>\n",
       "      <th>region_sub</th>\n",
       "      <th>date_str</th>\n",
       "      <th>date_min</th>\n",
       "      <th>date_max</th>\n",
       "      <th>date_circa</th>\n",
       "    </tr>\n",
       "  </thead>\n",
       "  <tbody>\n",
       "    <tr>\n",
       "      <th>0</th>\n",
       "      <td>315181</td>\n",
       "      <td>[φ]ιλεταιρος ευμενου περγαμευς μουσαις. καφισι...</td>\n",
       "      <td>Boiotia — Thespiai — mid-3rd c. BC — BCH 26 (1...</td>\n",
       "      <td>1698</td>\n",
       "      <td>Central Greece (IG VII-IX)</td>\n",
       "      <td>1691</td>\n",
       "      <td>Megaris, Oropia, and Boiotia (IG VII)</td>\n",
       "      <td>mid-3rd c. BC</td>\n",
       "      <td>-275.0</td>\n",
       "      <td>-226.0</td>\n",
       "      <td>0.0</td>\n",
       "    </tr>\n",
       "    <tr>\n",
       "      <th>1</th>\n",
       "      <td>201686</td>\n",
       "      <td>μαλκοιδων ηρωνος.</td>\n",
       "      <td>Crete, W. — Tarrha — 1st-3rd c. AD — IC II xxi...</td>\n",
       "      <td>1699</td>\n",
       "      <td>Aegean Islands, incl. Crete (IG XI-[XIII])</td>\n",
       "      <td>474</td>\n",
       "      <td>Crete</td>\n",
       "      <td>1st-3rd c. AD</td>\n",
       "      <td>1.0</td>\n",
       "      <td>300.0</td>\n",
       "      <td>0.0</td>\n",
       "    </tr>\n",
       "    <tr>\n",
       "      <th>2</th>\n",
       "      <td>153178</td>\n",
       "      <td>βασιλικος.</td>\n",
       "      <td>Makedonia (Bottiaia) — Pella — 3rd/2nd c. BC —...</td>\n",
       "      <td>1692</td>\n",
       "      <td>Northern Greece (IG X)</td>\n",
       "      <td>1485</td>\n",
       "      <td>Macedonia</td>\n",
       "      <td>3rd/2nd c. BC</td>\n",
       "      <td>-300.0</td>\n",
       "      <td>-101.0</td>\n",
       "      <td>0.0</td>\n",
       "    </tr>\n",
       "    <tr>\n",
       "      <th>3</th>\n",
       "      <td>28582</td>\n",
       "      <td>αισκλαπιει μ [ανεθεκε --].</td>\n",
       "      <td>Epidauria — Epidauros — sinistr. — 6th/5th c. BC</td>\n",
       "      <td>1690</td>\n",
       "      <td>Peloponnesos (IG IV-[VI])</td>\n",
       "      <td>1643</td>\n",
       "      <td>Epidauria (IG IV²,1)</td>\n",
       "      <td>6th/5th c. BC</td>\n",
       "      <td>-600.0</td>\n",
       "      <td>-401.0</td>\n",
       "      <td>0.0</td>\n",
       "    </tr>\n",
       "    <tr>\n",
       "      <th>4</th>\n",
       "      <td>333620</td>\n",
       "      <td>[---]ος αν[εθηκε δαματρι].</td>\n",
       "      <td>Italia — Herakleia (Policoro) — late 4th/early...</td>\n",
       "      <td>1696</td>\n",
       "      <td>Sicily, Italy, and the West (IG XIV)</td>\n",
       "      <td>1689</td>\n",
       "      <td>Italy, incl. Magna Graecia</td>\n",
       "      <td>late 4th/early 3rd c. BC</td>\n",
       "      <td>-350.0</td>\n",
       "      <td>-251.0</td>\n",
       "      <td>0.0</td>\n",
       "    </tr>\n",
       "  </tbody>\n",
       "</table>\n",
       "</div>"
      ],
      "text/plain": [
       "       id                                               text  \\\n",
       "0  315181  [φ]ιλεταιρος ευμενου περγαμευς μουσαις. καφισι...   \n",
       "1  201686                                  μαλκοιδων ηρωνος.   \n",
       "2  153178                                         βασιλικος.   \n",
       "3   28582                         αισκλαπιει μ [ανεθεκε --].   \n",
       "4  333620                         [---]ος αν[εθηκε δαματρι].   \n",
       "\n",
       "                                            metadata  region_main_id  \\\n",
       "0  Boiotia — Thespiai — mid-3rd c. BC — BCH 26 (1...            1698   \n",
       "1  Crete, W. — Tarrha — 1st-3rd c. AD — IC II xxi...            1699   \n",
       "2  Makedonia (Bottiaia) — Pella — 3rd/2nd c. BC —...            1692   \n",
       "3   Epidauria — Epidauros — sinistr. — 6th/5th c. BC            1690   \n",
       "4  Italia — Herakleia (Policoro) — late 4th/early...            1696   \n",
       "\n",
       "                                  region_main  region_sub_id  \\\n",
       "0                  Central Greece (IG VII-IX)           1691   \n",
       "1  Aegean Islands, incl. Crete (IG XI-[XIII])            474   \n",
       "2                      Northern Greece (IG X)           1485   \n",
       "3                   Peloponnesos (IG IV-[VI])           1643   \n",
       "4        Sicily, Italy, and the West (IG XIV)           1689   \n",
       "\n",
       "                               region_sub                    date_str  \\\n",
       "0  Megaris, Oropia, and Boiotia (IG VII)               mid-3rd c. BC    \n",
       "1                                  Crete               1st-3rd c. AD    \n",
       "2                              Macedonia               3rd/2nd c. BC    \n",
       "3                   Epidauria (IG IV²,1)                6th/5th c. BC   \n",
       "4              Italy, incl. Magna Graecia   late 4th/early 3rd c. BC    \n",
       "\n",
       "   date_min  date_max  date_circa  \n",
       "0    -275.0    -226.0         0.0  \n",
       "1       1.0     300.0         0.0  \n",
       "2    -300.0    -101.0         0.0  \n",
       "3    -600.0    -401.0         0.0  \n",
       "4    -350.0    -251.0         0.0  "
      ]
     },
     "execution_count": 54,
     "metadata": {},
     "output_type": "execute_result"
    }
   ],
   "source": [
    "df.head()"
   ]
  },
  {
   "cell_type": "code",
   "execution_count": 55,
   "metadata": {},
   "outputs": [],
   "source": [
    "def filter_epigraphs_by_region(df, region_id):\n",
    "    return df[df['region_main_id'] == region_id]\n",
    "filtered_epigraphs = filter_epigraphs_by_region(df, 1683)"
   ]
  },
  {
   "cell_type": "markdown",
   "metadata": {},
   "source": [
    "## Text Encoding (Tokenization / Vectorization)"
   ]
  },
  {
   "cell_type": "code",
   "execution_count": 59,
   "metadata": {},
   "outputs": [],
   "source": [
    "epigraph_texts.append(target_epigraph)\n",
    "tfidf_matrix = vectorizer.fit_transform(epigraph_texts)\n",
    "cosine_similarities = cosine_similarity(tfidf_matrix[-1], tfidf_matrix[:-1])\n",
    "similarity_df = pd.DataFrame(cosine_similarities.T, columns=['similarity'])\n",
    "similarity_df['text'] = epigraph_texts[:-1]\n",
    "top_n = 5\n",
    "top_similar_texts = similarity_df.nlargest(top_n, 'similarity')\n",
    "top_vectors = vectorizer.transform(top_similar_texts['text'].tolist())"
   ]
  },
  {
   "cell_type": "code",
   "execution_count": 60,
   "metadata": {},
   "outputs": [
    {
     "data": {
      "text/html": [
       "<div>\n",
       "<style scoped>\n",
       "    .dataframe tbody tr th:only-of-type {\n",
       "        vertical-align: middle;\n",
       "    }\n",
       "\n",
       "    .dataframe tbody tr th {\n",
       "        vertical-align: top;\n",
       "    }\n",
       "\n",
       "    .dataframe thead th {\n",
       "        text-align: right;\n",
       "    }\n",
       "</style>\n",
       "<table border=\"1\" class=\"dataframe\">\n",
       "  <thead>\n",
       "    <tr style=\"text-align: right;\">\n",
       "      <th></th>\n",
       "      <th>similarity</th>\n",
       "      <th>text</th>\n",
       "    </tr>\n",
       "  </thead>\n",
       "  <tbody>\n",
       "    <tr>\n",
       "      <th>0</th>\n",
       "      <td>0.0</td>\n",
       "      <td>[οσον] επαρκ[ει].</td>\n",
       "    </tr>\n",
       "    <tr>\n",
       "      <th>1</th>\n",
       "      <td>0.0</td>\n",
       "      <td>α[---]υς και [γυ]ν[η] φω[κ]αρια χαιρετε.</td>\n",
       "    </tr>\n",
       "    <tr>\n",
       "      <th>2</th>\n",
       "      <td>0.0</td>\n",
       "      <td>[αφ]ροδιτηι συριηι μητρω.</td>\n",
       "    </tr>\n",
       "    <tr>\n",
       "      <th>3</th>\n",
       "      <td>0.0</td>\n",
       "      <td>αγαθηι τυχηι. δημοκρατην αριστογενους προεδρον...</td>\n",
       "    </tr>\n",
       "    <tr>\n",
       "      <th>4</th>\n",
       "      <td>0.0</td>\n",
       "      <td>[---------- εν τω] ετει υπ[ερ -----] κατεσκε[υ...</td>\n",
       "    </tr>\n",
       "  </tbody>\n",
       "</table>\n",
       "</div>"
      ],
      "text/plain": [
       "   similarity                                               text\n",
       "0         0.0                                  [οσον] επαρκ[ει].\n",
       "1         0.0           α[---]υς και [γυ]ν[η] φω[κ]αρια χαιρετε.\n",
       "2         0.0                          [αφ]ροδιτηι συριηι μητρω.\n",
       "3         0.0  αγαθηι τυχηι. δημοκρατην αριστογενους προεδρον...\n",
       "4         0.0  [---------- εν τω] ετει υπ[ερ -----] κατεσκε[υ..."
      ]
     },
     "execution_count": 60,
     "metadata": {},
     "output_type": "execute_result"
    }
   ],
   "source": [
    "top_similar_texts"
   ]
  },
  {
   "cell_type": "code",
   "execution_count": 8,
   "metadata": {},
   "outputs": [],
   "source": [
    "NGRAM_RANGE = (1, 1) \n",
    "TOP_K = 1678\n",
    "TOKEN_MODE = 'word'"
   ]
  },
  {
   "cell_type": "code",
   "execution_count": 24,
   "metadata": {},
   "outputs": [],
   "source": [
    "def vectorize_texts(train_texts):\n",
    "    kwargs = {\n",
    "        'ngram_range': NGRAM_RANGE,\n",
    "        'dtype': 'float32',\n",
    "        'strip_accents': 'unicode',\n",
    "        'decode_error': 'replace',\n",
    "        'analyzer': TOKEN_MODE,\n",
    "        'norm': 'l2',\n",
    "        'max_features': TOP_K,\n",
    "    }\n",
    "    vectorizer = TfidfVectorizer(**kwargs)\n",
    "    dataOut = vectorizer.fit_transform(train_texts)\n",
    "    tokens = vectorizer.get_feature_names_out()\n",
    "\n",
    "    # Map each token to a unique integer in the range [1, 1678]\n",
    "    token_to_int = {token: idx + 1 for idx, token in enumerate(tokens)}\n",
    "\n",
    "    return dataOut, tokens, vectorizer, token_to_int"
   ]
  },
  {
   "cell_type": "markdown",
   "metadata": {},
   "source": [
    "# Genetic Algorithm"
   ]
  },
  {
   "cell_type": "code",
   "execution_count": null,
   "metadata": {},
   "outputs": [],
   "source": [
    "class GeneticAlgorithmText:\n",
    "    def __init__(self, epigraphs, target_epigraph, population_size, generations, crossover_rate, mutation_rate, elite_size, num_runs):\n",
    "        self.epigraphs = epigraphs\n",
    "        self.target_epigraph = target_epigraph\n",
    "        self.population_size = population_size\n",
    "        self.generations = generations\n",
    "        self.crossover_rate = crossover_rate\n",
    "        self.mutation_rate = mutation_rate\n",
    "        self.elite_size = elite_size\n",
    "        self.num_runs = num_runs\n",
    "        self.vectorizer = TfidfVectorizer(ngram_range=(1, 1), \n",
    "                                          max_features=1678,\n",
    "                                          analyzer='word',\n",
    "                                          norm='l2',\n",
    "                                          )\n",
    "        self.transformed_epigraphs, self.tokens, self.vocabulary_dict = self.vectorize_texts(epigraphs)\n",
    "        self.target_vector = self.vectorizer.transform([target_epigraph])\n",
    "        self.dictionary_size = len(self.tokens)\n",
    "        self.toolbox = base.Toolbox()\n",
    "        self.setup_deap()\n",
    "\n",
    "    def vectorize_texts(self, texts):\n",
    "        tfidf_matrix = self.vectorizer.fit_transform(texts)\n",
    "        tokens = self.vectorizer.get_feature_names_out()\n",
    "        vocabulary = {word: idx + 1 for idx, word in enumerate(tokens)}\n",
    "        return tfidf_matrix, tokens, vocabulary\n",
    "\n",
    "    def create_individual(self):\n",
    "        word_indices = random.sample(range(1, self.dictionary_size + 1), 2)\n",
    "        return creator.Individual(word_indices)\n",
    "\n",
    "    def decode_individual(self, individual):\n",
    "        reverse_vocabulary_dict = {v: k for k, v in self.vocabulary_dict.items()}\n",
    "        words = [reverse_vocabulary_dict[idx] for idx in individual]\n",
    "        return f\" {words[0]} αλεξανδρε ουδις {words[1]}\"\n",
    "\n",
    "    def fitness_function(self, individual):\n",
    "        completed_epigraph = self.decode_individual(individual)\n",
    "        completed_vector = self.vectorizer.transform([completed_epigraph])\n",
    "        similarity = cosine_similarity(self.target_vector, completed_vector)\n",
    "        fitness = similarity[0][0]\n",
    "        print(f\"Individual: {individual}, Completed Epigraph: {completed_epigraph}, Target Vector: {self.target_vector}, Completed Vector: {completed_vector}, Similarity: {similarity}, Fitness: {fitness}\")  # Detailed Debug statement\n",
    "        return (fitness,)  # Return as a tuple\n",
    "\n",
    "\n",
    "    def setup_deap(self):\n",
    "        creator.create(\"FitnessMax\", base.Fitness, weights=(1.0,))\n",
    "        creator.create(\"Individual\", list, fitness=creator.FitnessMax)\n",
    "        self.toolbox.register(\"individual\", self.create_individual)\n",
    "        self.toolbox.register(\"population\", tools.initRepeat, list, self.toolbox.individual)\n",
    "        self.toolbox.register(\"evaluate\", self.fitness_function)\n",
    "        self.toolbox.register(\"mate\", tools.cxTwoPoint)\n",
    "        self.toolbox.register(\"mutate\", tools.mutShuffleIndexes, indpb=0.5)\n",
    "        self.toolbox.register(\"select\", tools.selTournament, tournsize=3)\n",
    "\n",
    "    def run_single(self):\n",
    "        population = self.toolbox.population(n=self.population_size)\n",
    "        fitnesses = list(map(self.toolbox.evaluate, population))\n",
    "        for ind, fit in zip(population, fitnesses):\n",
    "            ind.fitness.values = fit\n",
    "\n",
    "        best_fitnesses = []\n",
    "        stagnation_count = 0\n",
    "        improvement_threshold = 0.01\n",
    "        max_generations = self.generations\n",
    "        best_fitness = max(fitnesses)[0]\n",
    "\n",
    "        for g in range(max_generations):\n",
    "            if best_fitness >= 100:\n",
    "                break\n",
    "\n",
    "            print(f\"-- Generation {g} --\")\n",
    "            elite = tools.selBest(population, self.elite_size)\n",
    "            offspring = self.toolbox.select(population, len(population) - self.elite_size)\n",
    "            offspring = list(map(self.toolbox.clone, offspring))\n",
    "\n",
    "            for child1, child2 in zip(offspring[::2], offspring[1::2]):\n",
    "                if random.random() < self.crossover_rate:\n",
    "                    self.toolbox.mate(child1, child2)\n",
    "                    del child1.fitness.values\n",
    "                    del child2.fitness.values\n",
    "\n",
    "            for mutant in offspring:\n",
    "                if random.random() < self.mutation_rate:\n",
    "                    self.toolbox.mutate(mutant)\n",
    "                    del mutant.fitness.values\n",
    "\n",
    "            invalid_ind = [ind for ind in offspring if not ind.fitness.valid]\n",
    "            fitnesses = map(self.toolbox.evaluate, invalid_ind)\n",
    "            for ind, fit in zip(invalid_ind, fitnesses):\n",
    "                ind.fitness.values = fit\n",
    "\n",
    "            population[:] = elite + offspring\n",
    "\n",
    "            fits = [ind.fitness.values[0] for ind in population]\n",
    "            current_best_fitness = max(fits)\n",
    "            best_fitnesses.append(current_best_fitness)\n",
    "            print(f\"Best fitness of current generation: {current_best_fitness}\")\n",
    "\n",
    "            if g > 0 and (current_best_fitness - best_fitness) < improvement_threshold:\n",
    "                stagnation_count += 1\n",
    "            else:\n",
    "                stagnation_count = 0\n",
    "\n",
    "            best_fitness = current_best_fitness\n",
    "\n",
    "            if stagnation_count >= 50:\n",
    "                print(\"Termination: Stagnation limit reached\")\n",
    "                break\n",
    "\n",
    "        best_individual = tools.selBest(population, 1)[0]\n",
    "        return best_individual, best_fitnesses\n",
    "\n",
    "\n",
    "    def run(self):\n",
    "        best_individuals = []\n",
    "        num_generations = []\n",
    "        avg_fitness_per_gen = []\n",
    "\n",
    "        for _ in range(self.num_runs):\n",
    "            best_individual, best_fitnesses = self.run_single()\n",
    "            best_individuals.append(best_individual.fitness.values[0])\n",
    "            num_generations.append(len(best_fitnesses))\n",
    "\n",
    "            if len(avg_fitness_per_gen) == 0:\n",
    "                avg_fitness_per_gen = best_fitnesses\n",
    "            else:\n",
    "                avg_fitness_per_gen = [sum(x) / 2 for x in zip(avg_fitness_per_gen, best_fitnesses)]\n",
    "\n",
    "        ave_best_fitness = np.mean(best_individuals)\n",
    "        ave_generations = np.mean(num_generations)\n",
    "\n",
    "        print(\"-- End of (successful) evolution --\")\n",
    "        print(\"Average best fitness over all runs:\", ave_best_fitness)\n",
    "        print(\"Average number of generations:\", ave_generations)\n",
    "\n",
    "        plt.plot(avg_fitness_per_gen)\n",
    "        plt.xlabel('Generation')\n",
    "        plt.ylabel('Average Best Fitness')\n",
    "        plt.title('Evolution of Average Best Fitness Over Generations')\n",
    "        plt.show()\n",
    "        print(self.target_vector)\n",
    "        return self.decode_individual(tools.selBest(self.toolbox.population(n=self.population_size), 1)[0])\n",
    "\n"
   ]
  },
  {
   "cell_type": "markdown",
   "metadata": {},
   "source": [
    "# Execution - Evaluation"
   ]
  },
  {
   "cell_type": "code",
   "execution_count": 136,
   "metadata": {},
   "outputs": [
    {
     "name": "stdout",
     "output_type": "stream",
     "text": [
      "Target epigraph: αλεξανδρε ουδις\n",
      "epigraph samples: ['[οσον] επαρκ[ει].', 'α[---]υς και [γυ]ν[η] φω[κ]αρια χαιρετε.', '[αφ]ροδιτηι συριηι μητρω.', 'αγαθηι τυχηι. δημοκρατην αριστογενους προεδρον [μεν εισηγη]σαμενον ενδοξως [και δημηγ]ορησαντα δις δ α[ρξαντα την] [λαμπρο]τατην α[ρχην και πλεονακις] πρεσβευ[σ]αν[τα παρα τους] [σεβα]στους προικα υπερ τω[ν συμφεροντ]ων της πατριδος και τε[ιμηθε]ντα υπο της πολεως αιδιω[ι] [αναγ]ορευσει θιασαρχησαν[τα και] [πασ]αν λειτουργιαν τελεσαν[τα] [πολ]ειτευσαμενον εν πασιν αγνως τον κτιστην και ασυνκ[ρι]τον και φιλοπατριν η κρατιστη βουλη και ο ιερωτατος δημος ευνοιας χαριν.', '[---------- εν τω] ετει υπ[ερ -----] κατεσκε[υασε --- τον πυργ]γον τη π[ολει].']\n"
     ]
    }
   ],
   "source": [
    "epigraph_texts = filtered_epigraphs['text'].tolist()\n",
    "target_epigraph = \"αλεξανδρε ουδις\"\n",
    "print(f'Target epigraph: {target_epigraph}\\nepigraph samples: {epigraph_texts[:5]}')"
   ]
  },
  {
   "cell_type": "code",
   "execution_count": 137,
   "metadata": {},
   "outputs": [
    {
     "data": {
      "image/png": "[encoded data removed]",
      "text/plain": [
       "<Figure size 640x480 with 1 Axes>"
      ]
     },
     "metadata": {},
     "output_type": "display_data"
    },
    {
     "name": "stdout",
     "output_type": "stream",
     "text": [
      "Best Epigraph:  ιερε αλεξανδρε ουδις υασε\n"
     ]
    }
   ],
   "source": [
    "epigraphs = epigraph_texts\n",
    "target_epigraph = \"αλεξανδρε ουδις\"\n",
    "ga = GeneticAlgorithmText(epigraphs, target_epigraph, population_size=100,\n",
    "                           generations=200, crossover_rate=0.1, mutation_rate=0.01, elite_size=1, num_runs=10)\n",
    "best_epigraph = ga.run()\n",
    "print(\"Best Epigraph:\", best_epigraph)"
   ]
  },
  {
   "cell_type": "code",
   "execution_count": 16,
   "metadata": {},
   "outputs": [
    {
     "name": "stdout",
     "output_type": "stream",
     "text": [
      "Took 0.16 minutes!\n"
     ]
    }
   ],
   "source": [
    "print(f'Took {(time() - time_start) / 60:.2f} minutes!')"
   ]
  }
 ],
 "metadata": {
  "kernelspec": {
   "display_name": "Python 3 (ipykernel)",
   "language": "python",
   "name": "python3"
  },
  "language_info": {
   "codemirror_mode": {
    "name": "ipython",
    "version": 3
   },
   "file_extension": ".py",
   "mimetype": "text/x-python",
   "name": "python",
   "nbconvert_exporter": "python",
   "pygments_lexer": "ipython3",
   "version": "3.11.5"
  }
 },
 "nbformat": 4,
 "nbformat_minor": 2
}
